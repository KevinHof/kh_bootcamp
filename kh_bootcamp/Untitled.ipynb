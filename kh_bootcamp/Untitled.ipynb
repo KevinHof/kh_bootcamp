{
 "cells": [
  {
   "cell_type": "code",
   "execution_count": 1,
   "metadata": {},
   "outputs": [],
   "source": [
    "import jb_bootcamp"
   ]
  },
  {
   "cell_type": "code",
   "execution_count": 2,
   "metadata": {},
   "outputs": [
    {
     "data": {
      "text/plain": [
       "\u001b[1;31mType:\u001b[0m        module\n",
       "\u001b[1;31mString form:\u001b[0m <module 'jb_bootcamp' from 'c:\\\\users\\\\kevin\\\\git\\\\bootcamp\\\\modules\\\\jb_bootcamp\\\\jb_bootcamp\\\\__init__.py'>\n",
       "\u001b[1;31mFile:\u001b[0m        c:\\users\\kevin\\git\\bootcamp\\modules\\jb_bootcamp\\jb_bootcamp\\__init__.py\n",
       "\u001b[1;31mDocstring:\u001b[0m   Top-level package for utilities for bootcamp.\n"
      ]
     },
     "metadata": {},
     "output_type": "display_data"
    }
   ],
   "source": [
    "jb_bootcamp?"
   ]
  },
  {
   "cell_type": "code",
   "execution_count": 3,
   "metadata": {},
   "outputs": [
    {
     "data": {
      "text/plain": [
       "{'TTT': 'F',\n",
       " 'TTC': 'F',\n",
       " 'TTA': 'L',\n",
       " 'TTG': 'L',\n",
       " 'TCT': 'S',\n",
       " 'TCC': 'S',\n",
       " 'TCA': 'S',\n",
       " 'TCG': 'S',\n",
       " 'TAT': 'Y',\n",
       " 'TAC': 'Y',\n",
       " 'TAA': '*',\n",
       " 'TAG': '*',\n",
       " 'TGT': 'C',\n",
       " 'TGC': 'C',\n",
       " 'TGA': '*',\n",
       " 'TGG': 'W',\n",
       " 'CTT': 'L',\n",
       " 'CTC': 'L',\n",
       " 'CTA': 'L',\n",
       " 'CTG': 'L',\n",
       " 'CCT': 'P',\n",
       " 'CCC': 'P',\n",
       " 'CCA': 'P',\n",
       " 'CCG': 'P',\n",
       " 'CAT': 'H',\n",
       " 'CAC': 'H',\n",
       " 'CAA': 'Q',\n",
       " 'CAG': 'Q',\n",
       " 'CGT': 'R',\n",
       " 'CGC': 'R',\n",
       " 'CGA': 'R',\n",
       " 'CGG': 'R',\n",
       " 'ATT': 'I',\n",
       " 'ATC': 'I',\n",
       " 'ATA': 'I',\n",
       " 'ATG': 'M',\n",
       " 'ACT': 'T',\n",
       " 'ACC': 'T',\n",
       " 'ACA': 'T',\n",
       " 'ACG': 'T',\n",
       " 'AAT': 'N',\n",
       " 'AAC': 'N',\n",
       " 'AAA': 'K',\n",
       " 'AAG': 'K',\n",
       " 'AGT': 'S',\n",
       " 'AGC': 'S',\n",
       " 'AGA': 'R',\n",
       " 'AGG': 'R',\n",
       " 'GTT': 'V',\n",
       " 'GTC': 'V',\n",
       " 'GTA': 'V',\n",
       " 'GTG': 'V',\n",
       " 'GCT': 'A',\n",
       " 'GCC': 'A',\n",
       " 'GCA': 'A',\n",
       " 'GCG': 'A',\n",
       " 'GAT': 'D',\n",
       " 'GAC': 'D',\n",
       " 'GAA': 'E',\n",
       " 'GAG': 'E',\n",
       " 'GGT': 'G',\n",
       " 'GGC': 'G',\n",
       " 'GGA': 'G',\n",
       " 'GGG': 'G'}"
      ]
     },
     "execution_count": 3,
     "metadata": {},
     "output_type": "execute_result"
    }
   ],
   "source": [
    "jb_bootcamp.codons"
   ]
  },
  {
   "cell_type": "code",
   "execution_count": null,
   "metadata": {},
   "outputs": [],
   "source": []
  }
 ],
 "metadata": {
  "kernelspec": {
   "display_name": "Python 3",
   "language": "python",
   "name": "python3"
  },
  "language_info": {
   "codemirror_mode": {
    "name": "ipython",
    "version": 3
   },
   "file_extension": ".py",
   "mimetype": "text/x-python",
   "name": "python",
   "nbconvert_exporter": "python",
   "pygments_lexer": "ipython3",
   "version": "3.6.6"
  }
 },
 "nbformat": 4,
 "nbformat_minor": 2
}
